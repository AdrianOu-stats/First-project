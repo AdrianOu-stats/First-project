{
  "nbformat": 4,
  "nbformat_minor": 0,
  "metadata": {
    "colab": {
      "name": "Project1_Adrian_opt1_final_version.ipynb",
      "provenance": [],
      "collapsed_sections": []
    },
    "kernelspec": {
      "name": "python3",
      "display_name": "Python 3"
    },
    "language_info": {
      "name": "python"
    }
  },
  "cells": [
    {
      "cell_type": "markdown",
      "metadata": {
        "id": "5BiLizxtacXx"
      },
      "source": [
        "Python Project"
      ]
    },
    {
      "cell_type": "code",
      "metadata": {
        "id": "g-5ktGh1RRi-"
      },
      "source": [
        "prompt_1 = \"Input a whole number such as '1,2,3...', or type 'end' to stop: \"\n",
        "\n",
        "active = True\n",
        "while active:\n",
        "  message_1 = input(prompt_1)\n",
        "\n",
        "  if message_1 == \"end\":\n",
        "    active = False\n",
        "\n",
        "  elif int(message_1) % 4 == 0 and int(message_1) != 0:\n",
        "    print(\"\\nThe number you entered [\" + message_1 + \"] is divisiable by 4.\\n\")\n",
        "\n",
        "  elif int(message_1) % 2 == 0:\n",
        "    result = 'even'\n",
        "    print(\"\\nThe number you entered [\" + message_1 + \"] is an \" + result + \" number.\\n\")\n",
        "\n",
        "  else:\n",
        "    result = 'odd'\n",
        "    print(\"\\nThe number you entered [\" + message_1 + \"] is an \" + result + \" number.\\n\")"
      ],
      "execution_count": null,
      "outputs": []
    },
    {
      "cell_type": "code",
      "metadata": {
        "id": "_lHrIIFYbrHo",
        "colab": {
          "base_uri": "https://localhost:8080/"
        },
        "outputId": "8ddddb6d-1608-45a7-a2de-3586160e848a"
      },
      "source": [
        "prompt_2 = \"You want to see if number A is divisiable by number B.\\nEnter number A here----> \"\n",
        "prompt_3 = \"Enter number B here----> \"\n",
        "\n",
        "while ready:\n",
        "  check = input(prompt_2)\n",
        "  num = input(prompt_3)\n",
        "\n",
        "  if int(num) == 0:\n",
        "    print(\"\\nNumber B cannot be [0]. Please try again.\\n\")\n",
        "\n",
        "  elif int(check) == 0:\n",
        "    print(\"\\nNumber A [0] is divisible by any number except by [0] itself.\\n\")\n",
        "\n",
        "  elif int(check) % int(num) == 0:\n",
        "    print(\"\\nNumber A [\" + check + \"] is divisible by number B [\" + num + \"].\\n\")\n",
        "\n",
        "  else:\n",
        "    print(\"\\nNumber A [\" + check + \"] is NOT divisible by number B [\" + num + \"].\\n\")"
      ],
      "execution_count": null,
      "outputs": [
        {
          "output_type": "stream",
          "text": [
            "You want to see if number A is divisiable by number B.\n",
            "Enter number A here----> 4\n",
            "Enter number B here----> 3\n",
            "\n",
            "Number A [4] is NOT divisible by number B [3].\n",
            "\n",
            "You want to see if number A is divisiable by number B.\n",
            "Enter number A here----> 4\n",
            "Enter number B here----> 8\n",
            "\n",
            "Number A [4] is NOT divisible by number B [8].\n",
            "\n"
          ],
          "name": "stdout"
        }
      ]
    }
  ]
}